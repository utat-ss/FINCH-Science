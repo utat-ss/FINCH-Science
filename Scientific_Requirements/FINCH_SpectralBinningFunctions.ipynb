{
 "cells": [
  {
   "cell_type": "code",
   "execution_count": null,
   "id": "ec977fbd-4668-4b85-9d97-d09840aa6636",
   "metadata": {},
   "outputs": [],
   "source": [
    "import numpy\n",
    "#let s be an array of shape (x, y, z)\n",
    "#Let a be an empty array of shape (x, y, z)\n",
    "#Let BN be the number of bins per axis\n",
    "a = s1.reshape(x/BN, BN, y, z)\n",
    "a = np.sum(a, axis = 1)\n",
    "a = a.reshape(x/BN, y/BN, BN, z)\n",
    "a = np.sum(a, axis = 2)\n",
    "a = a.reshape(x/BN, y/BN, z/BN, BN)\n",
    "a = np.sum(a, axis = 3)"
   ]
  }
 ],
 "metadata": {
  "kernelspec": {
   "display_name": "Python 3 (ipykernel)",
   "language": "python",
   "name": "python3"
  },
  "language_info": {
   "codemirror_mode": {
    "name": "ipython",
    "version": 3
   },
   "file_extension": ".py",
   "mimetype": "text/x-python",
   "name": "python",
   "nbconvert_exporter": "python",
   "pygments_lexer": "ipython3",
   "version": "3.10.11"
  }
 },
 "nbformat": 4,
 "nbformat_minor": 5
}
