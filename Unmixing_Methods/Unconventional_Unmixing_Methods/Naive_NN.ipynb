{
 "cells": [
  {
   "cell_type": "markdown",
   "id": "4872d4ce",
   "metadata": {},
   "source": [
    "This is the notebook to train a naive NN."
   ]
  },
  {
   "cell_type": "code",
   "execution_count": null,
   "id": "d44d5b65",
   "metadata": {},
   "outputs": [],
   "source": []
  }
 ],
 "metadata": {
  "language_info": {
   "name": "python"
  }
 },
 "nbformat": 4,
 "nbformat_minor": 5
}
