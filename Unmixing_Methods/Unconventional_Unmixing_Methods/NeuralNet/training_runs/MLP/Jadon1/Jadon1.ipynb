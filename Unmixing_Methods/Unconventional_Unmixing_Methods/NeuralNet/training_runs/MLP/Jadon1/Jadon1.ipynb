{
 "cells": [
  {
   "cell_type": "markdown",
   "id": "1830def2",
   "metadata": {},
   "source": [
    "This is the first training done by Jadon. I (Ege) am moving the results to a notebook."
   ]
  },
  {
   "cell_type": "code",
   "execution_count": 17,
   "id": "0c5c4ce6",
   "metadata": {},
   "outputs": [
    {
     "name": "stdout",
     "output_type": "stream",
     "text": [
      "The autoreload extension is already loaded. To reload it, use:\n",
      "  %reload_ext autoreload\n"
     ]
    }
   ],
   "source": [
    "%load_ext autoreload\n",
    "%autoreload 2\n",
    "\n",
    "# Define autroreload so that it doesn't cause pain in the ass when we change the functions and run this notebook"
   ]
  },
  {
   "cell_type": "code",
   "execution_count": 18,
   "id": "1fcdea7d",
   "metadata": {},
   "outputs": [],
   "source": [
    "# Imports\n",
    "\n",
    "import pandas as pd\n",
    "import numpy as np\n",
    "\n",
    "# Define the relative paths, append it to the system path\n",
    "import sys\n",
    "from pathlib import Path\n",
    "\n",
    "project_root = Path.cwd().resolve().parents[2] # Gets the folder: Unconventional_Unmixing_Methods\\NeuralNet\n",
    "sys.path.append(str(project_root))\n",
    "\n",
    "# Import the models and shi\n",
    "from defs.helper_functions.training_functions import *\n",
    "\n",
    "# Time, to precisely, time\n",
    "import time"
   ]
  },
  {
   "cell_type": "code",
   "execution_count": 19,
   "id": "ae2f4b9e",
   "metadata": {},
   "outputs": [
    {
     "name": "stdout",
     "output_type": "stream",
     "text": [
      "Using device: cuda\n"
     ]
    }
   ],
   "source": [
    "# Set device\n",
    "\n",
    "device = torch.device(\"cuda\" if torch.cuda.is_available() else \"cpu\")\n",
    "#device = torch.device(\"cpu\")  # Force CPU for testing purposes\n",
    "print(f\"Using device: {device}\")"
   ]
  },
  {
   "cell_type": "code",
   "execution_count": 20,
   "id": "494e27b4",
   "metadata": {},
   "outputs": [],
   "source": [
    "# Import and manipulate the data as needed\n",
    "\n",
    "df = pd.read_csv(r'C:\\SenkDosya\\UTAT\\Data\\General_Data\\simpler_data_rwc.csv')\n",
    "labels_df = df.iloc[:, 1:4]\n",
    "\n",
    "features_df = df.iloc[:, 8:]\n",
    "\n",
    "#optional for debugging\n",
    "features_df = features_df.apply(pd.to_numeric, errors='coerce')\n",
    "\n",
    "#features_df = features_df.dropna()\n",
    "#labels_df   = labels_df.loc[features_df.index]\n",
    "\n",
    "X = features_df.values.astype(np.float32)\n",
    "y = labels_df.values.astype(np.float32)\n",
    "data_array = np.hstack([X, y])\n",
    "num_features = X.shape[1]\n",
    "num_labels   = y.shape[1]"
   ]
  },
  {
   "cell_type": "code",
   "execution_count": null,
   "id": "59a8b6e6",
   "metadata": {},
   "outputs": [],
   "source": [
    "# Configurations\n",
    "\n",
    "cfg_dataset = {\n",
    "    \"idx_ab_tuple\":    (num_features, num_features + num_labels),\n",
    "    \"idx_range_tuple\": (0, num_features)\n",
    "}\n",
    "\n",
    "cfg_NN = {\n",
    "    \"model_type\": \"MLP\",\n",
    "    \"input_dim\":  num_features,\n",
    "    \"output_dim\": num_labels,\n",
    "    \"hidden_layers\": [64, 32],\n",
    "    \"activation_list\": [\"ReLU\", \"ReLU\", \"Identity\"],\n",
    "}\n",
    "\n",
    "#========================= edit learning data here\n",
    "cfg_train = {\n",
    "    \"batch_size\": 32,\n",
    "    \"seperation_ratios\": (0.7, 0.85),\n",
    "    \"lr\": 1e-4,\n",
    "    \"num_epochs\": 20\n",
    "}\n",
    "cfg_plots = {\n",
    "    \"plot_losses\": True,\n",
    "    \"plot_errors\": True,\n",
    "    \"plot_separately\": True\n",
    "}\n",
    "\n",
    "model = MLP(cfg_MLP= cfg_NN).to(device)\n"
   ]
  },
  {
   "cell_type": "code",
   "execution_count": 22,
   "id": "9a2856d5",
   "metadata": {},
   "outputs": [
    {
     "data": {
      "text/plain": [
       "'model_graph.png'"
      ]
     },
     "execution_count": 22,
     "metadata": {},
     "output_type": "execute_result"
    }
   ],
   "source": [
    "# Show the model\n",
    "\n",
    "from torchviz import make_dot\n",
    "\n",
    "# Create and move inputs to device\n",
    "show_tensor = torch.randn(5, cfg_NN['input_dim']).to(device)\n",
    "\n",
    "# Forward pass\n",
    "output = model(show_tensor)\n",
    "\n",
    "make_dot(output, params=dict(model.named_parameters())).render(\"model_graph\", format=\"png\")"
   ]
  },
  {
   "cell_type": "code",
   "execution_count": 23,
   "id": "02f0c40b",
   "metadata": {},
   "outputs": [
    {
     "name": "stdout",
     "output_type": "stream",
     "text": [
      "Epoch 1/20\n",
      "Train Loss: 0.1854\n",
      "Val Loss: 0.1650\n",
      "Epoch 2/20\n",
      "Train Loss: 0.1410\n",
      "Val Loss: 0.1220\n",
      "Epoch 3/20\n",
      "Train Loss: 0.1071\n",
      "Val Loss: 0.0983\n",
      "Epoch 4/20\n",
      "Train Loss: 0.0923\n",
      "Val Loss: 0.0882\n",
      "Epoch 5/20\n",
      "Train Loss: 0.0842\n",
      "Val Loss: 0.0808\n",
      "Epoch 6/20\n",
      "Train Loss: 0.0773\n",
      "Val Loss: 0.0734\n",
      "Epoch 7/20\n",
      "Train Loss: 0.0707\n",
      "Val Loss: 0.0668\n",
      "Epoch 8/20\n",
      "Train Loss: 0.0649\n",
      "Val Loss: 0.0617\n",
      "Epoch 9/20\n",
      "Train Loss: 0.0610\n",
      "Val Loss: 0.0583\n",
      "Epoch 10/20\n",
      "Train Loss: 0.0582\n",
      "Val Loss: 0.0565\n",
      "Epoch 11/20\n",
      "Train Loss: 0.0567\n",
      "Val Loss: 0.0552\n",
      "Epoch 12/20\n",
      "Train Loss: 0.0557\n",
      "Val Loss: 0.0542\n",
      "Epoch 13/20\n",
      "Train Loss: 0.0550\n",
      "Val Loss: 0.0534\n",
      "Epoch 14/20\n",
      "Train Loss: 0.0544\n",
      "Val Loss: 0.0530\n",
      "Epoch 15/20\n",
      "Train Loss: 0.0538\n",
      "Val Loss: 0.0523\n",
      "Epoch 16/20\n",
      "Train Loss: 0.0531\n",
      "Val Loss: 0.0514\n",
      "Epoch 17/20\n",
      "Train Loss: 0.0525\n",
      "Val Loss: 0.0508\n",
      "Epoch 18/20\n",
      "Train Loss: 0.0519\n",
      "Val Loss: 0.0501\n",
      "Epoch 19/20\n",
      "Train Loss: 0.0512\n",
      "Val Loss: 0.0495\n",
      "Epoch 20/20\n",
      "Train Loss: 0.0506\n",
      "Val Loss: 0.0487\n",
      "\n",
      "Final test loss: 0.0523\n",
      "Test loss: 0.052275838049912544\n"
     ]
    }
   ],
   "source": [
    "model, history, test_loss = train_Network(\n",
    "        cfg_NN,\n",
    "        cfg_dataset,\n",
    "        cfg_train,\n",
    "        cfg_plots,\n",
    "        data_array,\n",
    "        device,\n",
    "        model\n",
    "    )\n",
    "\n",
    "print(\"Test loss:\", test_loss)"
   ]
  }
 ],
 "metadata": {
  "kernelspec": {
   "display_name": "Python (pip)",
   "language": "python",
   "name": "pip-torch"
  },
  "language_info": {
   "codemirror_mode": {
    "name": "ipython",
    "version": 3
   },
   "file_extension": ".py",
   "mimetype": "text/x-python",
   "name": "python",
   "nbconvert_exporter": "python",
   "pygments_lexer": "ipython3",
   "version": "3.13.3"
  }
 },
 "nbformat": 4,
 "nbformat_minor": 5
}
