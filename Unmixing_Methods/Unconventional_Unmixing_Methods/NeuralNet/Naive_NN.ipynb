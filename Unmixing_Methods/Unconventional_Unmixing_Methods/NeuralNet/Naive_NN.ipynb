{
 "cells": [
  {
   "cell_type": "markdown",
   "id": "4872d4ce",
   "metadata": {},
   "source": [
    "This is the notebook to train a naive NN."
   ]
  },
  {
   "cell_type": "code",
   "execution_count": null,
   "id": "5c4dc6a4",
   "metadata": {},
   "outputs": [],
   "source": [
    "import torch\n",
    "\n"
   ]
  }
 ],
 "metadata": {
  "kernelspec": {
   "display_name": "Python (pip)",
   "language": "python",
   "name": "pip-torch"
  },
  "language_info": {
   "codemirror_mode": {
    "name": "ipython",
    "version": 3
   },
   "file_extension": ".py",
   "mimetype": "text/x-python",
   "name": "python",
   "nbconvert_exporter": "python",
   "pygments_lexer": "ipython3",
   "version": "3.13.3"
  }
 },
 "nbformat": 4,
 "nbformat_minor": 5
}
